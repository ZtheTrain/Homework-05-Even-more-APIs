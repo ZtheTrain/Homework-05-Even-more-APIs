{
 "cells": [
  {
   "cell_type": "markdown",
   "id": "da3e179f-b0ff-489a-880a-542d165efc50",
   "metadata": {},
   "source": [
    "# Geocoding with libraries or APIs"
   ]
  },
  {
   "cell_type": "markdown",
   "id": "064a108d-a013-4919-ac68-bacc4e5d5cbe",
   "metadata": {},
   "source": [
    "# Read in our addresses\n",
    "\n",
    "We'll never ever ever read in data like this again. But we'll do it now, because we love lists of dictionaries.\n",
    "\n",
    "- ***Tip:** If you get a file not found error, make sure the `addresses.csv` is in the same location as this Jupyter notebook. Maybe do `!pwd` to see where the notebook is!*"
   ]
  },
  {
   "cell_type": "code",
   "execution_count": 1,
   "id": "447f6dd0-27c9-41b1-a6bc-68278aed9b3e",
   "metadata": {},
   "outputs": [
    {
     "data": {
      "text/plain": [
       "[{'street': '100 Ihwajang-gil',\n",
       "  'city': 'Ihwa-dong',\n",
       "  'state': 'Jongno District',\n",
       "  'postal_code': 'Seoul',\n",
       "  'country': 'South Korea'},\n",
       " {'street': '4 Chome-1-1 Shimomeguro',\n",
       "  'city': ' Meguro City',\n",
       "  'state': 'Tokyo',\n",
       "  'postal_code': '153-0064',\n",
       "  'country': 'Japan'},\n",
       " {'street': '1126 Green Giant Ln',\n",
       "  'city': 'Blue Earth',\n",
       "  'state': 'MN',\n",
       "  'postal_code': '56013',\n",
       "  'country': ''},\n",
       " {'street': '7477 Hubbard Ave',\n",
       "  'city': 'Middleton',\n",
       "  'state': 'WI',\n",
       "  'postal_code': '53562',\n",
       "  'country': None},\n",
       " {'street': 'Wrocławska 12',\n",
       "  'city': '',\n",
       "  'state': 'Poznań',\n",
       "  'postal_code': '61-838',\n",
       "  'country': 'Poland'}]"
      ]
     },
     "execution_count": 1,
     "metadata": {},
     "output_type": "execute_result"
    }
   ],
   "source": [
    "import csv\n",
    "\n",
    "with open('addresses.csv') as fp:\n",
    "    data = list(csv.DictReader(fp))\n",
    "\n",
    "data"
   ]
  },
  {
   "cell_type": "markdown",
   "id": "30f80328-6f00-45a5-9100-6872f4ee54e4",
   "metadata": {},
   "source": [
    "## Create the full addresses\n",
    "\n",
    "Loop through the list, creating a new `address` variable that includes the street, city, state, postal code and country. For now, just print it out.\n",
    "\n",
    "- ***Tip:** You can go really really far in crafting a perfect address for each result, but you might not need to.*\n",
    "- ***Tip:** You aren't making a list of addresses! Just printing it out.*"
   ]
  },
  {
   "cell_type": "code",
   "execution_count": 25,
   "id": "94aa130f-4e06-4bb3-ba71-c1b15e2f1c50",
   "metadata": {},
   "outputs": [
    {
     "name": "stdout",
     "output_type": "stream",
     "text": [
      "100 Ihwajang-gil, Ihwa-dong, Jongno District, Seoul, South Korea\n",
      "4 Chome-1-1 Shimomeguro,  Meguro City, Tokyo, 153-0064, Japan\n",
      "1126 Green Giant Ln, Blue Earth, MN, 56013\n",
      "7477 Hubbard Ave, Middleton, WI, 53562\n",
      "Wrocławska 12, Poznań, 61-838, Poland\n"
     ]
    },
    {
     "data": {
      "text/plain": [
       "['100 Ihwajang-gil, Ihwa-dong, Jongno District, Seoul, South Korea',\n",
       " '4 Chome-1-1 Shimomeguro,  Meguro City, Tokyo, 153-0064, Japan',\n",
       " '1126 Green Giant Ln, Blue Earth, MN, 56013',\n",
       " '7477 Hubbard Ave, Middleton, WI, 53562',\n",
       " 'Wrocławska 12, Poznań, 61-838, Poland']"
      ]
     },
     "execution_count": 25,
     "metadata": {},
     "output_type": "execute_result"
    }
   ],
   "source": [
    "# Version 1, gave me the outcome I needed for this question but tuple was difficult to use for next question...\n",
    "\n",
    "for address in data:\n",
    "    if address['country'] == '' or address['country'] == None:\n",
    "        address1 = print(f\"{address['street']}, {address['city']}, {address['state']}, {address['postal_code']}\")\n",
    "    elif address['city'] == '':\n",
    "        address2 = print(f\"{address['street']}, {address['state']}, {address['postal_code']}, {address['country']}\")\n",
    "    else:\n",
    "        address3 = print(f\"{address['street']}, {address['city']}, {address['state']}, {address['postal_code']}, {address['country']}\")\n",
    "\n",
    "address = address1, address2, address3\n",
    "\n",
    "# ... so I switched to this version which gave me a list. Not sure if there is a better way I should have done this?\n",
    "\n",
    "addresses = []\n",
    "\n",
    "for address in data:\n",
    "    if address['country'] == '' or address['country'] == None:\n",
    "        formatted_address = f\"{address['street']}, {address['city']}, {address['state']}, {address['postal_code']}\"\n",
    "    elif address['city'] == '':\n",
    "        formatted_address = f\"{address['street']}, {address['state']}, {address['postal_code']}, {address['country']}\"\n",
    "    else:\n",
    "        formatted_address = f\"{address['street']}, {address['city']}, {address['state']}, {address['postal_code']}, {address['country']}\"\n",
    "\n",
    "    addresses.append(formatted_address)\n",
    "\n",
    "addresses"
   ]
  },
  {
   "cell_type": "markdown",
   "id": "8956fdf3-4b2d-4a49-8718-9692417a714e",
   "metadata": {},
   "source": [
    "## Geocode the address\n",
    "\n",
    "**Copy and paste the code from above into the cell below,** it will be your starting point.\n",
    "\n",
    "At the end of this step, you should have a list of dictionaries with two new keys: **lat** and **lon**, that are the latitude and longitude of the address. Gecode the addresses using either Google's geocoding API directly or the Geocoder library. You can use my API key: ~~redacted~~\n",
    "\n",
    "- Google geocoding API documentation: https://developers.google.com/maps/documentation/geocoding/requests-geocoding\n",
    "- Geocoder documentation: https://geocoder.readthedocs.io/\n",
    "\n",
    "**You can also try another geocoder if you'd like!** I would have liked to *demand* a different API but hey it's 1:43PM and you need this homework *now*.\n",
    "\n",
    "**Tips:**\n",
    "\n",
    "* *What order are lat and long in???*\n",
    "* *You can do this by creating 100% new list of dicts or updating the old one inside of the loop.*"
   ]
  },
  {
   "cell_type": "code",
   "execution_count": null,
   "id": "32cd8ef9-b3ea-4a32-bca6-8394b0cac54d",
   "metadata": {},
   "outputs": [
    {
     "data": {
      "text/plain": [
       "[{'formatted_address': '100 Ihwajang-gil, Ihwa-dong, Jongno District, Seoul, South Korea',\n",
       "  'latitude': 37.5798019,\n",
       "  'longitude': 127.0046643},\n",
       " {'formatted_address': '4 Chome-1-1 Shimomeguro,  Meguro City, Tokyo, 153-0064, Japan',\n",
       "  'latitude': 35.6317048,\n",
       "  'longitude': 139.706685},\n",
       " {'formatted_address': '1126 Green Giant Ln, Blue Earth, MN, 56013',\n",
       "  'latitude': 43.650971,\n",
       "  'longitude': -94.09567899999999},\n",
       " {'formatted_address': '7477 Hubbard Ave, Middleton, WI, 53562',\n",
       "  'latitude': 43.0952876,\n",
       "  'longitude': -89.51123369999999},\n",
       " {'formatted_address': 'Wrocławska 12, Poznań, 61-838, Poland',\n",
       "  'latitude': 52.4065344,\n",
       "  'longitude': 16.9327697}]"
      ]
     },
     "execution_count": 26,
     "metadata": {},
     "output_type": "execute_result"
    }
   ],
   "source": [
    "# Copy and paste the code from the \"Create the full addresses\" section\n",
    "\n",
    "# This first attempt didn't work for the final csv so I went back to the drawing board *AGAIN* (see below).\n",
    "\n",
    "import geocoder\n",
    "\n",
    "from dotenv import load_dotenv\n",
    "import os\n",
    "\n",
    "load_dotenv()\n",
    "\n",
    "API_KEY = os.getenv(\"API_KEY\")\n",
    "\n",
    "addresses = []\n",
    "\n",
    "for address in data:\n",
    "    if address['country'] == '' or address['country'] == None:\n",
    "        formatted_address = f\"{address['street']}, {address['city']}, {address['state']}, {address['postal_code']}\"\n",
    "    elif address['city'] == '':\n",
    "        formatted_address = f\"{address['street']}, {address['state']}, {address['postal_code']}, {address['country']}\"\n",
    "    else:\n",
    "        formatted_address = f\"{address['street']}, {address['city']}, {address['state']}, {address['postal_code']}, {address['country']}\"\n",
    "    g = geocoder.google(formatted_address, key=API_KEY)  \n",
    "    lat, lng = g.latlng if g.latlng else (None, None)  # Handle cases where geocoding fails\n",
    "\n",
    "    addresses.append({\n",
    "        \"formatted_address\": formatted_address,\n",
    "        \"latitude\": lat,\n",
    "        \"longitude\": lng\n",
    "    })\n",
    "\n",
    "addresses"
   ]
  },
  {
   "cell_type": "code",
   "execution_count": 31,
   "id": "5748c8f0-4676-4d81-9487-dd5ad7916f51",
   "metadata": {},
   "outputs": [
    {
     "data": {
      "text/plain": [
       "list"
      ]
     },
     "execution_count": 31,
     "metadata": {},
     "output_type": "execute_result"
    }
   ],
   "source": [
    "type(addresses)"
   ]
  },
  {
   "cell_type": "code",
   "execution_count": 32,
   "id": "7af8fe73-e459-49a9-a398-cda916f02a68",
   "metadata": {},
   "outputs": [
    {
     "data": {
      "text/plain": [
       "[{'street': '100 Ihwajang-gil',\n",
       "  'city': 'Ihwa-dong',\n",
       "  'state': 'Jongno District',\n",
       "  'postal_code': 'Seoul',\n",
       "  'country': 'South Korea'},\n",
       " {'street': '4 Chome-1-1 Shimomeguro',\n",
       "  'city': ' Meguro City',\n",
       "  'state': 'Tokyo',\n",
       "  'postal_code': '153-0064',\n",
       "  'country': 'Japan'},\n",
       " {'street': '1126 Green Giant Ln',\n",
       "  'city': 'Blue Earth',\n",
       "  'state': 'MN',\n",
       "  'postal_code': '56013',\n",
       "  'country': ''},\n",
       " {'street': '7477 Hubbard Ave',\n",
       "  'city': 'Middleton',\n",
       "  'state': 'WI',\n",
       "  'postal_code': '53562',\n",
       "  'country': None},\n",
       " {'street': 'Wrocławska 12',\n",
       "  'city': '',\n",
       "  'state': 'Poznań',\n",
       "  'postal_code': '61-838',\n",
       "  'country': 'Poland'}]"
      ]
     },
     "execution_count": 32,
     "metadata": {},
     "output_type": "execute_result"
    }
   ],
   "source": [
    "data"
   ]
  },
  {
   "cell_type": "code",
   "execution_count": 34,
   "id": "babb426b-8475-4aa6-9901-c4f9e89b8a25",
   "metadata": {},
   "outputs": [
    {
     "data": {
      "text/plain": [
       "[{'street': '100 Ihwajang-gil',\n",
       "  'city': 'Ihwa-dong',\n",
       "  'state': 'Jongno District',\n",
       "  'postal_code': 'Seoul',\n",
       "  'country': 'South Korea',\n",
       "  'latitude': None,\n",
       "  'longitude': None},\n",
       " {'street': '4 Chome-1-1 Shimomeguro',\n",
       "  'city': ' Meguro City',\n",
       "  'state': 'Tokyo',\n",
       "  'postal_code': '153-0064',\n",
       "  'country': 'Japan',\n",
       "  'latitude': None,\n",
       "  'longitude': None},\n",
       " {'street': '1126 Green Giant Ln',\n",
       "  'city': 'Blue Earth',\n",
       "  'state': 'MN',\n",
       "  'postal_code': '56013',\n",
       "  'country': '',\n",
       "  'latitude': None,\n",
       "  'longitude': None},\n",
       " {'street': '7477 Hubbard Ave',\n",
       "  'city': 'Middleton',\n",
       "  'state': 'WI',\n",
       "  'postal_code': '53562',\n",
       "  'country': None,\n",
       "  'latitude': None,\n",
       "  'longitude': None},\n",
       " {'street': 'Wrocławska 12',\n",
       "  'city': '',\n",
       "  'state': 'Poznań',\n",
       "  'postal_code': '61-838',\n",
       "  'country': 'Poland',\n",
       "  'latitude': None,\n",
       "  'longitude': None}]"
      ]
     },
     "execution_count": 34,
     "metadata": {},
     "output_type": "execute_result"
    }
   ],
   "source": [
    "for address in data:\n",
    "    address['latitude'] = None\n",
    "    address['longitude'] = None\n",
    "\n",
    "data"
   ]
  },
  {
   "cell_type": "code",
   "execution_count": null,
   "id": "b34d8abb-e177-4db1-8718-8171cf73163e",
   "metadata": {},
   "outputs": [
    {
     "data": {
      "text/plain": [
       "[{'street': '100 Ihwajang-gil',\n",
       "  'city': 'Ihwa-dong',\n",
       "  'state': 'Jongno District',\n",
       "  'postal_code': 'Seoul',\n",
       "  'country': 'South Korea',\n",
       "  'latitude': 37.5798019,\n",
       "  'longitude': 127.0046643},\n",
       " {'street': '4 Chome-1-1 Shimomeguro',\n",
       "  'city': ' Meguro City',\n",
       "  'state': 'Tokyo',\n",
       "  'postal_code': '153-0064',\n",
       "  'country': 'Japan',\n",
       "  'latitude': 35.6317048,\n",
       "  'longitude': 139.706685},\n",
       " {'street': '1126 Green Giant Ln',\n",
       "  'city': 'Blue Earth',\n",
       "  'state': 'MN',\n",
       "  'postal_code': '56013',\n",
       "  'country': '',\n",
       "  'latitude': 43.650971,\n",
       "  'longitude': -94.09567899999999},\n",
       " {'street': '7477 Hubbard Ave',\n",
       "  'city': 'Middleton',\n",
       "  'state': 'WI',\n",
       "  'postal_code': '53562',\n",
       "  'country': None,\n",
       "  'latitude': 43.0952876,\n",
       "  'longitude': -89.51123369999999},\n",
       " {'street': 'Wrocławska 12',\n",
       "  'city': '',\n",
       "  'state': 'Poznań',\n",
       "  'postal_code': '61-838',\n",
       "  'country': 'Poland',\n",
       "  'latitude': 52.4065344,\n",
       "  'longitude': 16.9327697}]"
      ]
     },
     "execution_count": 40,
     "metadata": {},
     "output_type": "execute_result"
    }
   ],
   "source": [
    "import geocoder\n",
    "\n",
    "from dotenv import load_dotenv\n",
    "import os\n",
    "\n",
    "load_dotenv()\n",
    "\n",
    "API_KEY = os.getenv(\"API_KEY\")\n",
    "\n",
    "data\n",
    "\n",
    "for address in data:\n",
    "    address_parts = [address['street'], address['city'], address['state'], address['postal_code'], address['country']]\n",
    "    full_address = \", \".join(filter(None, address_parts))\n",
    "    g = geocoder.google(full_address, key=API_KEY)\n",
    "    lat, lng = g.latlng\n",
    "\n",
    "    address['latitude'] = lat\n",
    "    address['longitude'] = lng\n",
    "\n",
    "data"
   ]
  },
  {
   "cell_type": "markdown",
   "id": "c38140c2-58dc-45d0-975b-a58fb01a72d6",
   "metadata": {},
   "source": [
    "## Save the results\n",
    "\n",
    "This is so embarrassing to be doing it like this but we're doing it anyway. **Pay attention to your key names for latitude and longitude.**"
   ]
  },
  {
   "cell_type": "code",
   "execution_count": 41,
   "id": "31a38fc9-1a28-4ddb-8995-f2e2fa692217",
   "metadata": {},
   "outputs": [],
   "source": [
    "import csv\n",
    "\n",
    "with open('addresses-geocoded.csv', 'w') as fp:\n",
    "    fieldnames=['street','city','state','postal_code','country','latitude', 'longitude']\n",
    "\n",
    "    writer = csv.DictWriter(fp, fieldnames=fieldnames)\n",
    "    writer.writeheader()\n",
    "    for row in data:\n",
    "        writer.writerow(row)"
   ]
  },
  {
   "cell_type": "code",
   "execution_count": null,
   "id": "577bcfdf-f9df-46d1-afbf-8fbc51da3235",
   "metadata": {},
   "outputs": [],
   "source": []
  }
 ],
 "metadata": {
  "kernelspec": {
   "display_name": "Python 3 (ipykernel)",
   "language": "python",
   "name": "python3"
  },
  "language_info": {
   "codemirror_mode": {
    "name": "ipython",
    "version": 3
   },
   "file_extension": ".py",
   "mimetype": "text/x-python",
   "name": "python",
   "nbconvert_exporter": "python",
   "pygments_lexer": "ipython3",
   "version": "3.12.10"
  }
 },
 "nbformat": 4,
 "nbformat_minor": 5
}
