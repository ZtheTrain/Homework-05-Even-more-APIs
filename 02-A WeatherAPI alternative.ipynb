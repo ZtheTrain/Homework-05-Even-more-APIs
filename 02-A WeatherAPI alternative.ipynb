{
 "cells": [
  {
   "cell_type": "code",
   "execution_count": 1,
   "id": "2253af85-a314-44e6-ad18-67f08ec4949f",
   "metadata": {},
   "outputs": [],
   "source": [
    "# Q1 Examine both Open-Meteo and Tomorrow and decide which one you'd prefer to use. What drove your decision?\n",
    "\n",
    "# Chose to use Open-Meteo because it's open-source and swears to me on its homepage that it's \"Easy to Use\". Let's find out if it's telling the truth.\n",
    "\n",
    "# Switched to Tomorrow when Open-Meteo wouldn't even give me the country of my request."
   ]
  },
  {
   "cell_type": "code",
   "execution_count": 2,
   "id": "e17ced77-582d-4823-a7f3-50bda99c47e3",
   "metadata": {},
   "outputs": [],
   "source": [
    "# Q2 What is the URL to the documentation? (You don't use code for this one)\n",
    "\n",
    "# https://open-meteo.com/en/docs\n",
    "# https://docs.tomorrow.io/reference/welcome"
   ]
  },
  {
   "cell_type": "code",
   "execution_count": 2,
   "id": "1a140bd5-e316-4344-98f7-8f28be55f7a0",
   "metadata": {},
   "outputs": [],
   "source": [
    "from dotenv import load_dotenv\n",
    "import os\n",
    "\n",
    "load_dotenv()\n",
    "\n",
    "Tomorrow_API_KEY = os.getenv(\"Tomorrow_API_KEY\")"
   ]
  },
  {
   "cell_type": "code",
   "execution_count": 3,
   "id": "d918314c-d5a1-40a0-81d5-a84fed877def",
   "metadata": {},
   "outputs": [
    {
     "data": {
      "text/plain": [
       "{'data': {'time': '2025-06-16T05:08:00Z',\n",
       "  'values': {'altimeterSetting': 1010.05,\n",
       "   'cloudBase': 2,\n",
       "   'cloudCeiling': 2.4,\n",
       "   'cloudCover': 100,\n",
       "   'dewPoint': 14.8,\n",
       "   'freezingRainIntensity': 0,\n",
       "   'humidity': 79,\n",
       "   'precipitationProbability': 0,\n",
       "   'pressureSeaLevel': 1010.29,\n",
       "   'pressureSurfaceLevel': 1006.74,\n",
       "   'rainIntensity': 0,\n",
       "   'sleetIntensity': 0,\n",
       "   'snowIntensity': 0,\n",
       "   'temperature': 18.4,\n",
       "   'temperatureApparent': 18.4,\n",
       "   'uvHealthConcern': 0,\n",
       "   'uvIndex': 1,\n",
       "   'visibility': 16,\n",
       "   'weatherCode': 1001,\n",
       "   'windDirection': 245,\n",
       "   'windGust': 3.8,\n",
       "   'windSpeed': 1.6}},\n",
       " 'location': {'lat': 60.14535903930664,\n",
       "  'lon': 17.62434959411621,\n",
       "  'name': 'Uppsala län, Sverige',\n",
       "  'type': 'administrative'}}"
      ]
     },
     "execution_count": 3,
     "metadata": {},
     "output_type": "execute_result"
    }
   ],
   "source": [
    "# Q3 Make a request for the current weather where you are born, or somewhere you've lived.\n",
    "\n",
    "import requests\n",
    "\n",
    "response = requests.get(f\"https://api.tomorrow.io/v4/weather/realtime?location=uppsala&units=metric&apikey={Tomorrow_API_KEY}\")\n",
    "data = response.json()\n",
    "data"
   ]
  },
  {
   "cell_type": "code",
   "execution_count": 7,
   "id": "fd74a3e2-8ae7-43cf-a0e1-710d1c61bb9d",
   "metadata": {},
   "outputs": [
    {
     "data": {
      "text/plain": [
       "dict_keys(['data', 'location'])"
      ]
     },
     "execution_count": 7,
     "metadata": {},
     "output_type": "execute_result"
    }
   ],
   "source": [
    "data.keys()"
   ]
  },
  {
   "cell_type": "code",
   "execution_count": 10,
   "id": "b98e1025-c901-4c41-b210-eb38ab1c5230",
   "metadata": {},
   "outputs": [
    {
     "data": {
      "text/plain": [
       "24.8"
      ]
     },
     "execution_count": 10,
     "metadata": {},
     "output_type": "execute_result"
    }
   ],
   "source": [
    "data['data']['values']['temperature']"
   ]
  },
  {
   "cell_type": "code",
   "execution_count": 11,
   "id": "82520f50-caf6-46d4-8370-fe61fe13fabb",
   "metadata": {},
   "outputs": [
    {
     "data": {
      "text/plain": [
       "'The current temperature in Uppsala is 24.8 degrees Celsius.'"
      ]
     },
     "execution_count": 11,
     "metadata": {},
     "output_type": "execute_result"
    }
   ],
   "source": [
    "f\"The current temperature in Uppsala is {data['data']['values']['temperature']} degrees Celsius.\""
   ]
  },
  {
   "cell_type": "code",
   "execution_count": 12,
   "id": "644b7ed0-bbc4-490f-b561-4d9553ddd4f0",
   "metadata": {},
   "outputs": [
    {
     "data": {
      "text/plain": [
       "'Uppsala län, Sverige'"
      ]
     },
     "execution_count": 12,
     "metadata": {},
     "output_type": "execute_result"
    }
   ],
   "source": [
    "# Q4 Print out the country this location is in.\n",
    "\n",
    "data['location']['name']"
   ]
  },
  {
   "cell_type": "code",
   "execution_count": 14,
   "id": "9aaf55d6-cce2-463b-b9a3-cbc60e1d6612",
   "metadata": {},
   "outputs": [],
   "source": [
    "parts = data['location']['name'].split(', ')"
   ]
  },
  {
   "cell_type": "code",
   "execution_count": 16,
   "id": "b4713f4d-8e7e-4c28-98ce-de4592848b55",
   "metadata": {},
   "outputs": [
    {
     "data": {
      "text/plain": [
       "'Uppsala is in Sverige, which is Swedish for Sweden.'"
      ]
     },
     "execution_count": 16,
     "metadata": {},
     "output_type": "execute_result"
    }
   ],
   "source": [
    "f\"Uppsala is in {parts[1]}, which is Swedish for Sweden.\""
   ]
  },
  {
   "cell_type": "code",
   "execution_count": 19,
   "id": "efab4a8e-71da-4f16-9b8f-eeec09efc22c",
   "metadata": {},
   "outputs": [
    {
     "data": {
      "text/plain": [
       "'It feels 0.0 degrees warmer.'"
      ]
     },
     "execution_count": 19,
     "metadata": {},
     "output_type": "execute_result"
    }
   ],
   "source": [
    "# Q5 Print out the difference between the current temperature and how warm it feels. Use \"It feels ___ degrees colder\" or \"It feels ___ degrees warmer,\" not negative numbers.\n",
    "\n",
    "difference_temp = data['data']['values']['temperatureApparent'] - data['data']['values']['temperature']\n",
    "difference_temp\n",
    "\n",
    "f\"It feels {difference_temp:.1f} degrees warmer.\" "
   ]
  },
  {
   "cell_type": "code",
   "execution_count": 4,
   "id": "321d5a44-cb68-4448-a757-418d446dd1a1",
   "metadata": {},
   "outputs": [
    {
     "data": {
      "text/plain": [
       "{'data': {'time': '2025-06-16T05:08:00Z',\n",
       "  'values': {'altimeterSetting': 999.93,\n",
       "   'cloudBase': 0.8,\n",
       "   'cloudCeiling': None,\n",
       "   'cloudCover': 61,\n",
       "   'dewPoint': 18.8,\n",
       "   'freezingRainIntensity': 0,\n",
       "   'humidity': 65,\n",
       "   'precipitationProbability': 5,\n",
       "   'pressureSeaLevel': 1000.69,\n",
       "   'pressureSurfaceLevel': 974.69,\n",
       "   'rainIntensity': 0.13,\n",
       "   'sleetIntensity': 0,\n",
       "   'snowIntensity': 0,\n",
       "   'temperature': 33.1,\n",
       "   'temperatureApparent': 41.5,\n",
       "   'uvHealthConcern': 0,\n",
       "   'uvIndex': 2,\n",
       "   'visibility': 11.88,\n",
       "   'weatherCode': 1101,\n",
       "   'windDirection': 23,\n",
       "   'windGust': 5.2,\n",
       "   'windSpeed': 1.9}},\n",
       " 'location': {'lat': 31.56568145751953,\n",
       "  'lon': 74.3141860961914,\n",
       "  'name': 'لاہور, تحصیل لاہور شہر, ضلع لاہور, لاہور ڈویژن, پنجاب, 54500, پاکستان',\n",
       "  'type': 'city'}}"
      ]
     },
     "execution_count": 4,
     "metadata": {},
     "output_type": "execute_result"
    }
   ],
   "source": [
    "# Q6 What's the current temperature at Heathrow International Airport? Use the airport's IATA code to search.\n",
    "\n",
    "response = requests.get(f\"https://api.tomorrow.io/v4/weather/realtime?location=LHR&units=metric&apikey={Tomorrow_API_KEY}\")\n",
    "data = response.json()\n",
    "data"
   ]
  },
  {
   "cell_type": "code",
   "execution_count": 5,
   "id": "f5636001-ef3c-41b9-90cf-b6461a132246",
   "metadata": {},
   "outputs": [
    {
     "data": {
      "text/plain": [
       "{'data': {'time': '2025-06-16T05:09:00Z',\n",
       "  'values': {'altimeterSetting': 1014.58,\n",
       "   'cloudBase': 1.1,\n",
       "   'cloudCeiling': 1.1,\n",
       "   'cloudCover': 62,\n",
       "   'dewPoint': 21.5,\n",
       "   'freezingRainIntensity': 0,\n",
       "   'humidity': 91,\n",
       "   'precipitationProbability': 0,\n",
       "   'pressureSeaLevel': 1015.79,\n",
       "   'pressureSurfaceLevel': 988.98,\n",
       "   'rainIntensity': 0,\n",
       "   'sleetIntensity': 0,\n",
       "   'snowIntensity': 0,\n",
       "   'temperature': 23,\n",
       "   'temperatureApparent': 23,\n",
       "   'uvHealthConcern': 0,\n",
       "   'uvIndex': 0,\n",
       "   'visibility': 16,\n",
       "   'weatherCode': 1102,\n",
       "   'windDirection': 0,\n",
       "   'windGust': 4.7,\n",
       "   'windSpeed': 0}},\n",
       " 'location': {'lat': 36.00089645385742,\n",
       "  'lon': -86.81194305419922,\n",
       "  'name': 'Heathrow, Brentwood, Williamson County, Middle Tennessee, Tennessee, 37027, United States',\n",
       "  'type': 'hamlet'}}"
      ]
     },
     "execution_count": 5,
     "metadata": {},
     "output_type": "execute_result"
    }
   ],
   "source": [
    "# Well that didn't work, returning a neighbourhood of Lahore instead! Turns out Tomorrow's API doesn't like IATA codes so I will try Heathrow by name instead. \n",
    "\n",
    "response = requests.get(f\"https://api.tomorrow.io/v4/weather/realtime?location=Heathrow&units=metric&apikey={Tomorrow_API_KEY}\")\n",
    "data = response.json()\n",
    "data"
   ]
  },
  {
   "cell_type": "code",
   "execution_count": 6,
   "id": "3d36fee5-fe43-4301-a0a1-648cf4dff69e",
   "metadata": {},
   "outputs": [
    {
     "data": {
      "text/plain": [
       "{'data': {'time': '2025-06-16T05:09:00Z',\n",
       "  'values': {'altimeterSetting': 1026.97,\n",
       "   'cloudBase': None,\n",
       "   'cloudCeiling': None,\n",
       "   'cloudCover': 5,\n",
       "   'dewPoint': 12.7,\n",
       "   'freezingRainIntensity': 0,\n",
       "   'humidity': 93,\n",
       "   'precipitationProbability': 0,\n",
       "   'pressureSeaLevel': 1027.41,\n",
       "   'pressureSurfaceLevel': 1024.82,\n",
       "   'rainIntensity': 0,\n",
       "   'sleetIntensity': 0,\n",
       "   'snowIntensity': 0,\n",
       "   'temperature': 13.7,\n",
       "   'temperatureApparent': 13.7,\n",
       "   'uvHealthConcern': 0,\n",
       "   'uvIndex': 0,\n",
       "   'visibility': 16,\n",
       "   'weatherCode': 1000,\n",
       "   'windDirection': 280,\n",
       "   'windGust': 3.1,\n",
       "   'windSpeed': 1.7}},\n",
       " 'location': {'lat': 51.46773910522461,\n",
       "  'lon': -0.45878008008003235,\n",
       "  'name': 'London Heathrow Airport, Northern Perimeter Road, London Borough of Hillingdon, London, Greater London, England, TW6 2RN, United Kingdom',\n",
       "  'type': 'aerodrome'}}"
      ]
     },
     "execution_count": 6,
     "metadata": {},
     "output_type": "execute_result"
    }
   ],
   "source": [
    "# Again, not returning the Heathrow I was looking for, so trying ICAO code instead.\n",
    "\n",
    "response = requests.get(f\"https://api.tomorrow.io/v4/weather/realtime?location=EGLL&units=metric&apikey={Tomorrow_API_KEY}\")\n",
    "data = response.json()\n",
    "data"
   ]
  },
  {
   "cell_type": "code",
   "execution_count": 26,
   "id": "d6ce7441-79a5-41a1-abd9-a4d9a49b0cf6",
   "metadata": {},
   "outputs": [
    {
     "data": {
      "text/plain": [
       "'The current temperature at London Heathrow Airport is 21 degrees Celsius.'"
      ]
     },
     "execution_count": 26,
     "metadata": {},
     "output_type": "execute_result"
    }
   ],
   "source": [
    "f\"The current temperature at London Heathrow Airport is {data['data']['values']['temperature']} degrees Celsius.\""
   ]
  },
  {
   "cell_type": "code",
   "execution_count": 7,
   "id": "8bb30d07-0762-49db-a589-c4a15ef45170",
   "metadata": {},
   "outputs": [
    {
     "data": {
      "text/plain": [
       "{'data': {'timelines': [{'timestep': '1d',\n",
       "    'endTime': '2025-06-18T05:00:00Z',\n",
       "    'startTime': '2025-06-15T05:00:00Z',\n",
       "    'intervals': [{'startTime': '2025-06-15T05:00:00Z',\n",
       "      'values': {'temperature': 24.3}},\n",
       "     {'startTime': '2025-06-16T05:00:00Z', 'values': {'temperature': 25.4}},\n",
       "     {'startTime': '2025-06-17T05:00:00Z', 'values': {'temperature': 25.8}},\n",
       "     {'startTime': '2025-06-18T05:00:00Z',\n",
       "      'values': {'temperature': 25.5}}]}]}}"
      ]
     },
     "execution_count": 7,
     "metadata": {},
     "output_type": "execute_result"
    }
   ],
   "source": [
    "# Q7 What URL would I use to request a 3-day forecast at Heathrow?\n",
    "\n",
    "response = requests.get(f\"https://api.tomorrow.io/v4/timelines?location=EGLL&fields=temperature&timesteps=1d&startTime=2025-06-16T00:00:00Z&endTime=2025-06-18T00:00:00Z&apikey={Tomorrow_API_KEY}\")\n",
    "data = response.json()\n",
    "data"
   ]
  },
  {
   "cell_type": "code",
   "execution_count": 46,
   "id": "045fc37d-304f-402d-9ab5-4c4c38605240",
   "metadata": {},
   "outputs": [
    {
     "name": "stdout",
     "output_type": "stream",
     "text": [
      "2025-06-15T05:00:00Z\n",
      "2025-06-16T05:00:00Z\n",
      "2025-06-17T05:00:00Z\n",
      "2025-06-18T05:00:00Z\n"
     ]
    }
   ],
   "source": [
    "# Q8 Print the date of each of the 3 days you're getting a forecast for.\n",
    "\n",
    "for day in data['data']['timelines'][0]['intervals']:\n",
    "    print(day['startTime'])"
   ]
  },
  {
   "cell_type": "code",
   "execution_count": 47,
   "id": "4ff59b0b-e0ca-45f3-93ce-542ed3ddd361",
   "metadata": {},
   "outputs": [
    {
     "name": "stdout",
     "output_type": "stream",
     "text": [
      "22.5\n",
      "24.8\n",
      "25.5\n",
      "25.9\n"
     ]
    }
   ],
   "source": [
    "# Q9 Print the maximum temperature of each of the days. Obviously, I didn't get this 100% right because it still shows the current date as well.\n",
    "\n",
    "for max_temp in data['data']['timelines'][0]['intervals']:\n",
    "    print(max_temp['values']['temperature'])"
   ]
  },
  {
   "cell_type": "code",
   "execution_count": 51,
   "id": "78f23bdc-95a9-47f8-866d-79509768a087",
   "metadata": {},
   "outputs": [
    {
     "name": "stdout",
     "output_type": "stream",
     "text": [
      "The hottest day is 2025-06-18T05:00:00Z with a max temp of 25.9°C.\n"
     ]
    }
   ],
   "source": [
    "# Q10 Print only the day with the highest maximum temperature.\n",
    "\n",
    "highest_temp = float('-inf')\n",
    "hottest_date = None\n",
    "\n",
    "for day in data['data']['timelines'][0]['intervals']:\n",
    "    temp = day['values']['temperature']\n",
    "    date = day['startTime']\n",
    "    if temp > highest_temp:\n",
    "        highest_temp = temp\n",
    "        hottest_date = date\n",
    "\n",
    "# Print the result\n",
    "print(f\"The hottest day is {hottest_date} with a max temp of {highest_temp}°C.\")"
   ]
  },
  {
   "cell_type": "markdown",
   "id": "d9d49430-e5a6-41ba-b43c-880cc81abc4e",
   "metadata": {},
   "source": [
    "**Q11 Did you find this easier or more difficult than using the weatherapi.com, and why? Which would you recommend to someone interesting in building a tool around weather information?**\n",
    "\n",
    "I found the weatherapi easier than Tomorrow mainly because of its API Explorer that was simple to use in a way that Tomorrow's documentation was not. Also Tomorrow's data was structured in a more nested way which made the variables I was after more complex to access. Hence I would recommend the Weather API over this tool. "
   ]
  },
  {
   "cell_type": "code",
   "execution_count": null,
   "id": "5da5aa9f-f407-46ae-949a-e6b4cf170321",
   "metadata": {},
   "outputs": [],
   "source": []
  }
 ],
 "metadata": {
  "kernelspec": {
   "display_name": "Python 3 (ipykernel)",
   "language": "python",
   "name": "python3"
  },
  "language_info": {
   "codemirror_mode": {
    "name": "ipython",
    "version": 3
   },
   "file_extension": ".py",
   "mimetype": "text/x-python",
   "name": "python",
   "nbconvert_exporter": "python",
   "pygments_lexer": "ipython3",
   "version": "3.12.10"
  }
 },
 "nbformat": 4,
 "nbformat_minor": 5
}
